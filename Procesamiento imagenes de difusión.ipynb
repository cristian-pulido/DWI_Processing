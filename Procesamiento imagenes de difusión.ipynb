{
 "cells": [
  {
   "cell_type": "markdown",
   "metadata": {},
   "source": [
    "# Pipeline imagenes de Difusión"
   ]
  },
  {
   "cell_type": "code",
   "execution_count": 34,
   "metadata": {},
   "outputs": [
    {
     "name": "stdout",
     "output_type": "stream",
     "text": [
      "env: FSLDIR=/usr/local/fsl/\n"
     ]
    }
   ],
   "source": [
    "import warnings\n",
    "warnings.filterwarnings('ignore')\n",
    "from niwidgets import NiftiWidget\n",
    "import os\n",
    "from time import time\n",
    "%env FSLDIR=/usr/local/fsl/"
   ]
  },
  {
   "cell_type": "markdown",
   "metadata": {},
   "source": [
    "## Visualización Imagen estructural T1"
   ]
  },
  {
   "cell_type": "markdown",
   "metadata": {},
   "source": [
    "El valor de path debe ser la dirección de la imagen estructural T1"
   ]
  },
  {
   "cell_type": "code",
   "execution_count": 15,
   "metadata": {},
   "outputs": [
    {
     "data": {
      "text/plain": [
       "<Figure size 432x288 with 0 Axes>"
      ]
     },
     "metadata": {},
     "output_type": "display_data"
    },
    {
     "data": {
      "application/vnd.jupyter.widget-view+json": {
       "model_id": "6c609e02e49c42d3a0fcf4b7a87fdb1f",
       "version_major": 2,
       "version_minor": 0
      },
      "text/plain": [
       "interactive(children=(IntSlider(value=127, continuous_update=False, description='x', max=255), IntSlider(value…"
      ]
     },
     "metadata": {},
     "output_type": "display_data"
    }
   ],
   "source": [
    "path_t1=\"/home/runlab/scripts/cristian/test/T1.nii.gz\"\n",
    "NiftiWidget(path_t1).nifti_plotter(colormap='gray')"
   ]
  },
  {
   "cell_type": "markdown",
   "metadata": {},
   "source": [
    "## Visualización Imagen de Difusión"
   ]
  },
  {
   "cell_type": "markdown",
   "metadata": {},
   "source": [
    "El valor de path debe ser la dirección de la imagen DWI"
   ]
  },
  {
   "cell_type": "code",
   "execution_count": 16,
   "metadata": {},
   "outputs": [
    {
     "data": {
      "text/plain": [
       "<Figure size 432x288 with 0 Axes>"
      ]
     },
     "metadata": {},
     "output_type": "display_data"
    },
    {
     "data": {
      "application/vnd.jupyter.widget-view+json": {
       "model_id": "9f7717e9e25f4122ba3d4725815bac51",
       "version_major": 2,
       "version_minor": 0
      },
      "text/plain": [
       "interactive(children=(IntSlider(value=127, continuous_update=False, description='x', max=255), IntSlider(value…"
      ]
     },
     "metadata": {},
     "output_type": "display_data"
    }
   ],
   "source": [
    "path_dwi=\"/home/runlab/scripts/cristian/test/TENSOR.nii.gz\"\n",
    "NiftiWidget(path_dwi).nifti_plotter(colormap='gray')"
   ]
  },
  {
   "cell_type": "markdown",
   "metadata": {},
   "source": [
    "## eddy_correction\n",
    "\n",
    "### Corrección de corrientes de eddy generadas en la adquisición de las imágenes debido al campo magnetico del resonador"
   ]
  },
  {
   "cell_type": "code",
   "execution_count": 28,
   "metadata": {},
   "outputs": [
    {
     "name": "stdout",
     "output_type": "stream",
     "text": [
      "    - running Eddy Correction...\n",
      "/home/runlab/scripts/cristian/test/TENSOR_EddyCorrect.nii.gz\n",
      "Elapsed time: 0.2735996246 seconds.\n"
     ]
    }
   ],
   "source": [
    "warnings.filterwarnings('ignore')\n",
    "start_time = time()\n",
    "%run tareas/eddy_correction.py \"/home/runlab/scripts/cristian/test/TENSOR.nii.gz\" \"/home/runlab/scripts/cristian/test\"\n",
    "elapsed_time = time() - start_time\n",
    "print(\"Elapsed time: %0.10f seconds.\" % elapsed_time)"
   ]
  },
  {
   "cell_type": "code",
   "execution_count": 29,
   "metadata": {},
   "outputs": [],
   "source": [
    "from tareas.dependencias.fsl_wrapper import eddy_correct"
   ]
  },
  {
   "cell_type": "code",
   "execution_count": 33,
   "metadata": {},
   "outputs": [],
   "source": [
    "file_in=\"/home/runlab/scripts/cristian/test/temp_eddy/TENSOR.nii.gz\"\n",
    "file_out=\"/home/runlab/scripts/cristian/test/eddy.nii.gz\"\n",
    "referenceNo='0'"
   ]
  },
  {
   "cell_type": "code",
   "execution_count": 35,
   "metadata": {},
   "outputs": [
    {
     "data": {
      "text/plain": [
       "32512"
      ]
     },
     "execution_count": 35,
     "metadata": {},
     "output_type": "execute_result"
    }
   ],
   "source": [
    "command = 'eddy_correct ' + file_in + ' ' + file_out + ' ' + referenceNo\n",
    "os.system(command)"
   ]
  },
  {
   "cell_type": "code",
   "execution_count": 36,
   "metadata": {},
   "outputs": [
    {
     "data": {
      "text/plain": [
       "'eddy_correct /home/runlab/scripts/cristian/test/temp_eddy/TENSOR.nii.gz /home/runlab/scripts/cristian/test/eddy.nii.gz 0'"
      ]
     },
     "execution_count": 36,
     "metadata": {},
     "output_type": "execute_result"
    }
   ],
   "source": [
    "command"
   ]
  },
  {
   "cell_type": "markdown",
   "metadata": {},
   "source": [
    "## Non Local Mean\n",
    "\n",
    "### Proceso que permite quitar el ruido de la imagen"
   ]
  },
  {
   "cell_type": "code",
   "execution_count": 18,
   "metadata": {},
   "outputs": [
    {
     "name": "stdout",
     "output_type": "stream",
     "text": [
      "    - running NonLocal Mean algoritm...\n",
      "0\n",
      "1\n",
      "2\n",
      "3\n",
      "4\n",
      "5\n",
      "6\n",
      "7\n",
      "8\n",
      "9\n",
      "10\n",
      "11\n",
      "12\n",
      "13\n",
      "14\n",
      "15\n",
      "16\n",
      "17\n",
      "18\n",
      "19\n",
      "20\n",
      "21\n",
      "22\n",
      "23\n",
      "24\n",
      "25\n",
      "26\n",
      "27\n",
      "28\n",
      "29\n",
      "30\n",
      "/home/runlab/scripts/cristian/test/TENSOR_NonLocalMean.nii.gz\n",
      "Elapsed time: 578.9906759262 seconds.\n"
     ]
    }
   ],
   "source": [
    "warnings.filterwarnings('ignore')\n",
    "start_time = time()\n",
    "%run tareas/nonLocalMean.py \"/home/runlab/scripts/cristian/test/TENSOR.nii.gz\" \"/home/runlab/scripts/cristian/test/\"\n",
    "elapsed_time = time() - start_time\n",
    "print(\"Elapsed time: %0.10f seconds.\" % elapsed_time)"
   ]
  },
  {
   "cell_type": "code",
   "execution_count": 6,
   "metadata": {},
   "outputs": [
    {
     "data": {
      "image/png": "[encoded data removed]",
      "text/plain": [
       "<Figure size 1080x360 with 3 Axes>"
      ]
     },
     "metadata": {},
     "output_type": "display_data"
    }
   ],
   "source": [
    "out=\"/home/cpulido/all/DWI/test/TENSOR_NonLocalMean.nii.gz\"\n",
    "NiftiWidget(out).nifti_plotter(colormap='gray')"
   ]
  },
  {
   "cell_type": "markdown",
   "metadata": {},
   "source": [
    "## Reslicing\n",
    "###  Redimensiona los voxeles de la imagenen de tal forma que queda isotropico"
   ]
  },
  {
   "cell_type": "code",
   "execution_count": 7,
   "metadata": {},
   "outputs": [
    {
     "name": "stdout",
     "output_type": "stream",
     "text": [
      "    - runnning Reslice...\n",
      "/home/cpulido/all/DWI/test/TENSOR_NonLocalMean_Reslice.nii.gz\n",
      "Elapsed time: 86.8495440483 seconds.\n"
     ]
    }
   ],
   "source": [
    "warnings.filterwarnings('ignore')\n",
    "start_time = time()\n",
    "%run tareas/reslicing.py \"/home/cpulido/all/DWI/test/TENSOR_NonLocalMean.nii.gz\" \"/home/cpulido/all/DWI/test/\"\n",
    "elapsed_time = time() - start_time\n",
    "print(\"Elapsed time: %0.10f seconds.\" % elapsed_time)"
   ]
  },
  {
   "cell_type": "code",
   "execution_count": 8,
   "metadata": {},
   "outputs": [
    {
     "data": {
      "image/png": "[encoded data removed]",
      "text/plain": [
       "<Figure size 1080x360 with 3 Axes>"
      ]
     },
     "metadata": {},
     "output_type": "display_data"
    }
   ],
   "source": [
    "out=\"/home/cpulido/all/DWI/test/TENSOR_NonLocalMean_Reslice.nii.gz\"\n",
    "NiftiWidget(out).nifti_plotter(colormap='gray')"
   ]
  },
  {
   "cell_type": "markdown",
   "metadata": {},
   "source": [
    "## Bet DWI\n",
    "### Extrae el cerebro de la imagen"
   ]
  },
  {
   "cell_type": "code",
   "execution_count": 9,
   "metadata": {},
   "outputs": [
    {
     "name": "stdout",
     "output_type": "stream",
     "text": [
      "    - running BET with FSL...\n",
      "Ejecutando\n",
      "/home/cpulido/all/DWI/test/TENSOR_NonLocalMean_Reslice_BET_dwi_masked.nii.gz\n",
      "Elapsed time: 30.1716310978 seconds.\n"
     ]
    }
   ],
   "source": [
    "warnings.filterwarnings('ignore')\n",
    "start_time = time()\n",
    "%run tareas/betDWI.py \"/home/cpulido/all/DWI/test/TENSOR_NonLocalMean_Reslice.nii.gz\" \"/home/cpulido/all/DWI/test/\"\n",
    "elapsed_time = time() - start_time\n",
    "print(\"Elapsed time: %0.10f seconds.\" % elapsed_time)"
   ]
  },
  {
   "cell_type": "markdown",
   "metadata": {},
   "source": [
    "## to_register_dwi_to_mni\n",
    "## \n",
    "\n"
   ]
  },
  {
   "cell_type": "code",
   "execution_count": 10,
   "metadata": {},
   "outputs": [
    {
     "name": "stderr",
     "output_type": "stream",
     "text": [
      "/usr/lib/python3.6/importlib/_bootstrap.py:219: RuntimeWarning: numpy.ufunc size changed, may indicate binary incompatibility. Expected 192 from C header, got 216 from PyObject\n",
      "  return f(*args, **kwds)\n"
     ]
    },
    {
     "name": "stdout",
     "output_type": "stream",
     "text": [
      "Optimizing level 2 [max iter: 10000]\n",
      "Optimizing level 1 [max iter: 1000]\n",
      "Optimizing level 0 [max iter: 100]\n",
      "Optimizing level 2 [max iter: 10000]\n",
      "Optimizing level 1 [max iter: 1000]\n",
      "Optimizing level 0 [max iter: 100]\n",
      "Optimizing level 2 [max iter: 10000]\n",
      "Optimizing level 1 [max iter: 1000]\n",
      "Optimizing level 0 [max iter: 100]\n",
      "NO Data time\n",
      "terminado affine registartion\n",
      "Creating scale space from the moving image. Levels: 3. Sigma factor: 0.200000.\n",
      "Creating scale space from the static image. Levels: 3. Sigma factor: 0.200000.\n",
      "Optimizing level 2\n",
      "Optimizing level 1\n",
      "Optimizing level 0\n",
      "terminado syn registartion\n",
      "0\n",
      "1\n",
      "2\n",
      "3\n",
      "4\n",
      "5\n",
      "6\n",
      "7\n",
      "8\n",
      "9\n",
      "10\n",
      "11\n",
      "12\n",
      "13\n",
      "14\n",
      "15\n",
      "16\n",
      "17\n",
      "18\n",
      "19\n",
      "20\n",
      "21\n",
      "22\n",
      "23\n",
      "24\n",
      "25\n",
      "26\n",
      "27\n",
      "28\n",
      "29\n",
      "30\n",
      "/home/cpulido/all/DWI/test/TENSOR_NonLocalMean_Reslice_BET_dwi_masked_normalized.nii.gz\n",
      "/home/cpulido/all/DWI/test/TENSOR_NonLocalMean_Reslice_BET_dwi_masked.nii.gz\n",
      "Elapsed time: 1085.5715253353 seconds.\n"
     ]
    }
   ],
   "source": [
    "warnings.filterwarnings('ignore')\n",
    "start_time = time()\n",
    "%run tareas/to_register_dwi_to_mni.py \"/home/cpulido/all/DWI/test/TENSOR_NonLocalMean_Reslice_BET_dwi_masked.nii.gz\" \"/home/cpulido/all/DWI/test/\"\n",
    "elapsed_time = time() - start_time\n",
    "print(\"Elapsed time: %0.10f seconds.\" % elapsed_time)"
   ]
  },
  {
   "cell_type": "markdown",
   "metadata": {},
   "source": [
    "## To estimate dti"
   ]
  },
  {
   "cell_type": "code",
   "execution_count": 11,
   "metadata": {},
   "outputs": [
    {
     "name": "stdout",
     "output_type": "stream",
     "text": [
      "    - building DTI Model...\n",
      "Unexpected error: <class 'FileNotFoundError'>\n",
      "/home/cpulido/all/DWI/test/TENSOR_NonLocalMean_Reslice_BET_dwi_masked_DTIEvecs.nii.gz\n",
      "/home/cpulido/all/DWI/test/TENSOR_NonLocalMean_Reslice_BET_dwi_masked_DTIEvals.nii.gz\n",
      "/home/cpulido/all/DWI/test/TENSOR_NonLocalMean_Reslice_BET_dwi_masked.nii.gz\n",
      "Elapsed time: 81.2918457985 seconds.\n"
     ]
    }
   ],
   "source": [
    "warnings.filterwarnings('ignore')\n",
    "start_time = time()\n",
    "%run tareas/to_estimate_dti.py \"/home/cpulido/all/DWI/test/TENSOR_NonLocalMean_Reslice_BET_dwi_masked.nii.gz\" \"/home/cpulido/all/DWI/test/\"\n",
    "elapsed_time = time() - start_time\n",
    "print(\"Elapsed time: %0.10f seconds.\" % elapsed_time)"
   ]
  },
  {
   "cell_type": "markdown",
   "metadata": {},
   "source": [
    "## To_estimate_dti_maps"
   ]
  },
  {
   "cell_type": "code",
   "execution_count": 12,
   "metadata": {},
   "outputs": [
    {
     "name": "stdout",
     "output_type": "stream",
     "text": [
      "    -     - computing of FA map\n",
      "    -     - computing of Color FA map\n",
      "    -     - computing of MD map\n",
      "    -     - computing of AD map\n",
      "    -     - computing of RD map\n",
      "['/home/cpulido/all/DWI/test/TENSOR_NonLocalMean_Reslice_BET_dwi_masked_FA.nii.gz', '/home/cpulido/all/DWI/test/TENSOR_NonLocalMean_Reslice_BET_dwi_masked_MD.nii.gz', '/home/cpulido/all/DWI/test/TENSOR_NonLocalMean_Reslice_BET_dwi_masked_AD.nii.gz', '/home/cpulido/all/DWI/test/TENSOR_NonLocalMean_Reslice_BET_dwi_masked_RD.nii.gz']\n",
      "/home/cpulido/all/DWI/test/TENSOR_NonLocalMean_Reslice_BET_dwi_masked.nii.gz\n",
      "Elapsed time: 50.8595564365 seconds.\n"
     ]
    }
   ],
   "source": [
    "warnings.filterwarnings('ignore')\n",
    "start_time = time()\n",
    "%run tareas/to_estimate_dti_maps.py \"/home/cpulido/all/DWI/test/TENSOR_NonLocalMean_Reslice_BET_dwi_masked.nii.gz\" \"/home/cpulido/all/DWI/test/\"\n",
    "elapsed_time = time() - start_time\n",
    "print(\"Elapsed time: %0.10f seconds.\" % elapsed_time)"
   ]
  },
  {
   "cell_type": "markdown",
   "metadata": {},
   "source": [
    "## to generate bunddle"
   ]
  },
  {
   "cell_type": "code",
   "execution_count": 3,
   "metadata": {
    "scrolled": false
   },
   "outputs": [
    {
     "name": "stdout",
     "output_type": "stream",
     "text": [
      "    - starting of model\n",
      "    - ending of model\n",
      "    - starting of classifier\n",
      "    - ending of classifier\n",
      "Starting ROI reconstruction\n",
      "Finished ROI reconstruction\n",
      "Starting TARGET filtering\n",
      "Finished TARGET filtering\n",
      "Finished exclusive filtering:\n",
      "Starting ROI reconstruction\n",
      "Finished ROI reconstruction\n",
      "Starting TARGET filtering\n",
      "Finished TARGET filtering\n",
      "Starting ROI reconstruction\n",
      "Finished ROI reconstruction\n",
      "Starting TARGET filtering\n",
      "Finished TARGET filtering\n"
     ]
    },
    {
     "name": "stderr",
     "output_type": "stream",
     "text": [
      "IOPub data rate exceeded.\n",
      "The notebook server will temporarily stop sending output\n",
      "to the client in order to avoid crashing it.\n",
      "To change this limit, set the config variable\n",
      "`--NotebookApp.iopub_data_rate_limit`.\n",
      "\n",
      "Current values:\n",
      "NotebookApp.iopub_data_rate_limit=1000000.0 (bytes/sec)\n",
      "NotebookApp.rate_limit_window=3.0 (secs)\n",
      "\n"
     ]
    },
    {
     "name": "stdout",
     "output_type": "stream",
     "text": [
      "/home/cpulido/all/DWI/test/AAN_ROI_3.0.nii.gz\n",
      "Morel\n",
      "/home/cpulido/all/DWI/test/ThalamicNucleiMorelAtlas_ROI_4.0.nii.gz\n",
      "/home/cpulido/all/DWI/test/ThalamicNucleiMorelAtlas_ROI_5.0.nii.gz\n",
      "/home/cpulido/all/DWI/test/ThalamicNucleiMorelAtlas_ROI_6.0.nii.gz\n",
      "/home/cpulido/all/DWI/test/ThalamicNucleiMorelAtlas_ROI_18.0.nii.gz\n",
      "/home/cpulido/all/DWI/test/ThalamicNucleiMorelAtlas_ROI_42.0.nii.gz\n",
      "/home/cpulido/all/DWI/test/ThalamicNucleiMorelAtlas_ROI_43.0.nii.gz\n",
      "/home/cpulido/all/DWI/test/ThalamicNucleiMorelAtlas_ROI_44.0.nii.gz\n",
      "/home/cpulido/all/DWI/test/ThalamicNucleiMorelAtlas_ROI_56.0.nii.gz\n",
      "HypothalamusAtlas\n",
      "/home/cpulido/all/DWI/test/Hypothalamus_ROI_1.0.nii.gz\n",
      "/home/cpulido/all/DWI/test/Hypothalamus_ROI_2.0.nii.gz\n",
      "/home/cpulido/all/DWI/test/Hypothalamus_ROI_3.0.nii.gz\n",
      "/home/cpulido/all/DWI/test/feature.out\n",
      "/home/cpulido/all/DWI/test/TENSOR_NonLocalMean_Reslice_BET_dwi_masked.nii.gz\n",
      "Elapsed time: 712.6888489723 seconds.\n"
     ]
    }
   ],
   "source": [
    "warnings.filterwarnings('ignore')\n",
    "start_time = time()\n",
    "%run tareas/to_generate_bunddle.py \"/home/cpulido/all/DWI/test/TENSOR_NonLocalMean_Reslice_BET_dwi_masked.nii.gz\" \"/home/cpulido/all/DWI/test/\"\n",
    "elapsed_time = time() - start_time\n",
    "print(\"Elapsed time: %0.10f seconds.\" % elapsed_time)"
   ]
  },
  {
   "cell_type": "markdown",
   "metadata": {},
   "source": [
    "## to genereate tractography"
   ]
  },
  {
   "cell_type": "code",
   "execution_count": 4,
   "metadata": {},
   "outputs": [
    {
     "name": "stdout",
     "output_type": "stream",
     "text": [
      "    - Starting reconstruction of Tractography...\n",
      "    - Ending reconstruction of Tractography...\n",
      "/home/cpulido/all/DWI/test/TENSOR_NonLocalMean_Reslice_BET_dwi_masked.nii.gz\n",
      "Elapsed time: 669.5343232155 seconds.\n"
     ]
    }
   ],
   "source": [
    "warnings.filterwarnings('ignore')\n",
    "start_time = time()\n",
    "%run tareas/to_generate_tractography.py \"/home/cpulido/all/DWI/test/TENSOR_NonLocalMean_Reslice_BET_dwi_masked.nii.gz\" \"/home/cpulido/all/DWI/test/\"\n",
    "elapsed_time = time() - start_time\n",
    "print(\"Elapsed time: %0.10f seconds.\" % elapsed_time)"
   ]
  },
  {
   "cell_type": "code",
   "execution_count": null,
   "metadata": {},
   "outputs": [],
   "source": []
  }
 ],
 "metadata": {
  "kernelspec": {
   "display_name": "procesamiento",
   "language": "python",
   "name": "procesamiento"
  },
  "language_info": {
   "codemirror_mode": {
    "name": "ipython",
    "version": 3
   },
   "file_extension": ".py",
   "mimetype": "text/x-python",
   "name": "python",
   "nbconvert_exporter": "python",
   "pygments_lexer": "ipython3",
   "version": "3.6.5"
  }
 },
 "nbformat": 4,
 "nbformat_minor": 2
}
